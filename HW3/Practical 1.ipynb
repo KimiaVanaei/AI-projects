{
 "cells": [
  {
   "cell_type": "markdown",
   "metadata": {},
   "source": [
    "<img src='https://cdn.freebiesupply.com/logos/large/2x/sharif-logo-png-transparent.png' alt=\"SUT logo\" width=300 height=300 align=center class=\"saturate\" >\n",
    "\n",
    "<br>\n",
    "<font>\n",
    "<div dir=ltr align=center>\n",
    "<font color=0F5298 size=7>\n",
    "    Artificial Intelligence <br>\n",
    "<font color=2565AE size=5>\n",
    "    Computer Engineering Department <br>\n",
    "    Fall 2024<br>\n",
    "<font color=3C99D size=5>\n",
    "    Practical Assignment 3 - Hidden Markov Model  <br>\n",
    "<font color=696880 size=4>\n",
    "Parsa Sharifi"
   ]
  },
  {
   "cell_type": "markdown",
   "metadata": {},
   "source": [
    "# Personal Data\n"
   ]
  },
  {
   "cell_type": "code",
   "execution_count": 1,
   "metadata": {},
   "outputs": [],
   "source": [
    "# Set your student number and name\n",
    "student_number = 401107613\n",
    "Name = 'Kimia'\n",
    "Last_Name = 'Vanaei'"
   ]
  },
  {
   "cell_type": "code",
   "execution_count": 1,
   "metadata": {
    "id": "8qksX5aqwnsS"
   },
   "outputs": [
    {
     "name": "stdout",
     "output_type": "stream",
     "text": [
      "Requirement already satisfied: hmmlearn in c:\\users\\asus\\appdata\\local\\programs\\python\\python312\\lib\\site-packages (0.3.3)\n",
      "Requirement already satisfied: numpy>=1.10 in c:\\users\\asus\\appdata\\local\\programs\\python\\python312\\lib\\site-packages (from hmmlearn) (1.26.4)\n",
      "Requirement already satisfied: scikit-learn!=0.22.0,>=0.16 in c:\\users\\asus\\appdata\\local\\programs\\python\\python312\\lib\\site-packages (from hmmlearn) (1.5.2)\n",
      "Requirement already satisfied: scipy>=0.19 in c:\\users\\asus\\appdata\\local\\programs\\python\\python312\\lib\\site-packages (from hmmlearn) (1.13.0)\n",
      "Requirement already satisfied: joblib>=1.2.0 in c:\\users\\asus\\appdata\\local\\programs\\python\\python312\\lib\\site-packages (from scikit-learn!=0.22.0,>=0.16->hmmlearn) (1.4.2)\n",
      "Requirement already satisfied: threadpoolctl>=3.1.0 in c:\\users\\asus\\appdata\\local\\programs\\python\\python312\\lib\\site-packages (from scikit-learn!=0.22.0,>=0.16->hmmlearn) (3.5.0)\n"
     ]
    }
   ],
   "source": [
    "!pip install hmmlearn"
   ]
  },
  {
   "cell_type": "code",
   "execution_count": 3,
   "metadata": {
    "id": "Th74QzY0zYrf"
   },
   "outputs": [],
   "source": [
    "# Import necessary libraries\n",
    "import numpy as np\n",
    "import matplotlib.pyplot as plt\n",
    "from hmmlearn import hmm"
   ]
  },
  {
   "cell_type": "code",
   "execution_count": 4,
   "metadata": {
    "id": "PH0wMJE-wr5O"
   },
   "outputs": [],
   "source": [
    "# Define a function to plot the hidden states\n",
    "def plot_hidden_states(model, X, lengths=None):\n",
    "    hidden_states = model.predict(X, lengths)\n",
    "\n",
    "    fig, axs = plt.subplots(model.n_components, sharex=True, sharey=True, figsize=(10, 8))\n",
    "    colors = plt.cm.get_cmap(\"viridis\", model.n_components)\n",
    "\n",
    "    for i, ax in enumerate(axs):\n",
    "        mask = hidden_states == i\n",
    "        ax.plot(X[mask], \".-\", color=colors(i), ms=6, label=f\"Hidden State {i}\")\n",
    "        ax.set_title(f\"Hidden State {i}\")\n",
    "        ax.legend()\n",
    "\n",
    "    plt.xlabel(\"Time Step\")\n",
    "    plt.show()\n"
   ]
  },
  {
   "cell_type": "code",
   "execution_count": 5,
   "metadata": {
    "id": "HUwFHbnQyj0B"
   },
   "outputs": [],
   "source": [
    "# Define the parameters of a more complex HMM with 4 hidden states and 4 possible observations\n",
    "\n",
    "# Transition probabilities (4x4 matrix for 4 hidden states)\n",
    "A = np.array([\n",
    "    [0.6, 0.1, 0.2, 0.1],\n",
    "    [0.2, 0.5, 0.2, 0.1],\n",
    "    [0.1, 0.3, 0.4, 0.2],\n",
    "    [0.3, 0.2, 0.2, 0.3]\n",
    "])\n",
    "\n",
    "# Emission probabilities (4x4 matrix for 4 states and 4 observations)\n",
    "B = np.array([\n",
    "    [0.5, 0.2, 0.2, 0.1],\n",
    "    [0.1, 0.3, 0.4, 0.2],\n",
    "    [0.2, 0.4, 0.1, 0.3],\n",
    "    [0.3, 0.1, 0.3, 0.3]\n",
    "])\n",
    "\n",
    "# Initial probabilities for 4 states\n",
    "pi = np.array([0.4, 0.3, 0.2, 0.1])\n",
    "\n",
    "# Generate a longer sequence of observations for more complexity\n",
    "observations = np.array([0, 1, 3, 2, 1, 0, 3, 3, 1, 2, 0, 1, 2, 3, 0, 1, 2, 2, 3, 1])\n"
   ]
  },
  {
   "cell_type": "code",
   "execution_count": 6,
   "metadata": {},
   "outputs": [],
   "source": [
    "def viterbi(obs, A, B, pi):\n",
    "    \"\"\"\n",
    "    Viterbi algorithm to find the most probable sequence of hidden states.\n",
    "\n",
    "    Parameters:\n",
    "    obs : list or np.array\n",
    "        Sequence of observed states.\n",
    "    A : 2D numpy array\n",
    "        State transition probability matrix (N x N where N is the number of states).\n",
    "    B : 2D numpy array\n",
    "        Observation probability matrix (N x M where M is the number of observations).\n",
    "    pi : 1D numpy array\n",
    "        Initial state distribution (N,).\n",
    "\n",
    "    Returns:\n",
    "    Z : list\n",
    "        The most probable sequence of hidden states.\n",
    "    T1 : 2D numpy array\n",
    "        Probability of the most likely path so far.\n",
    "    T2 : 2D numpy array\n",
    "        Backpointer to keep track of the states.\n",
    "    \"\"\"\n",
    "    N = A.shape[0]  # Number of states\n",
    "    T = len(obs)    # length of the observation sequence\n",
    "\n",
    "    T1 = np.zeros((N, T))  # matrix to store the probability of the most likely path\n",
    "    T2 = np.zeros((N, T), dtype=int)  # Backpointer matrix to store the state sequence\n",
    "\n",
    "    # calculate the probability of the initial state at time 0\n",
    "    for i in range(N):\n",
    "        T1[i, 0] = pi[i] * B[i, obs[0]]\n",
    "        T2[i, 0] = 0  # No previous state for time 0\n",
    "\n",
    "    # calculate the probabilities for each time step t\n",
    "    for t in range(1, T):\n",
    "        for j in range(N):\n",
    "            max_prob = -1\n",
    "            max_state = -1\n",
    "            for i in range(N):\n",
    "                prob = T1[i, t - 1] * A[i, j] * B[j, obs[t]]\n",
    "                if prob > max_prob:\n",
    "                    max_prob = prob\n",
    "                    max_state = i\n",
    "            T1[j, t] = max_prob\n",
    "            T2[j, t] = max_state\n",
    "\n",
    "    # find the most probable last state\n",
    "    Z = np.zeros(T, dtype=int)\n",
    "    Z[T - 1] = np.argmax(T1[:, T - 1]) \n",
    "\n",
    "    # reconstruct the most probable sequence of states\n",
    "    for t in range(T - 2, -1, -1):\n",
    "        Z[t] = T2[Z[t + 1], t + 1]\n",
    "\n",
    "    return Z, T1, T2"
   ]
  },
  {
   "cell_type": "code",
   "execution_count": 7,
   "metadata": {
    "id": "FVqbBSWX18jD"
   },
   "outputs": [
    {
     "name": "stdout",
     "output_type": "stream",
     "text": [
      "Optimal state sequence (from scratch): [0 0 0 0 0 0 0 0 0 0 0 0 0 0 0 2 1 1 1 1]\n"
     ]
    }
   ],
   "source": [
    "# Run the Viterbi algorithm\n",
    "optimal_path, T1, T2 = viterbi(observations, A, B, pi)\n",
    "print(\"Optimal state sequence (from scratch):\", optimal_path)"
   ]
  },
  {
   "cell_type": "markdown",
   "metadata": {
    "id": "6MbBv0vJ2ALz"
   },
   "source": [
    "Use hmmlearn and check the results:"
   ]
  },
  {
   "cell_type": "code",
   "execution_count": 8,
   "metadata": {
    "id": "KBdnxdXw1eJf"
   },
   "outputs": [
    {
     "name": "stdout",
     "output_type": "stream",
     "text": [
      "Optimal state sequence (using hmmlearn): [0 0 0 0 0 0 0 0 0 0 0 0 0 0 0 2 1 1 1 1]\n",
      "Both implementations yield the same optimal state sequence.\n"
     ]
    }
   ],
   "source": [
    "# Using hmmlearn CategoricalHMM to check the results\n",
    "try:\n",
    "\n",
    "    # Initialize a Hidden Markov Model with 4 hidden states\n",
    "    model = hmm.CategoricalHMM(n_components=4)\n",
    "\n",
    "    # Set the model's initial state probabilities\n",
    "    model.startprob_ = pi\n",
    "\n",
    "    # Set the transition probability matrix for the model\n",
    "    model.transmat_ = A\n",
    "\n",
    "    # Set the emission probability matrix, which defines probabilities of observations given each state\n",
    "    model.emissionprob_ = B\n",
    "\n",
    "    # Reshape the observations to match the expected input shape for hmmlearn (each observation as a separate row)\n",
    "    observations_reshaped = observations.reshape(-1, 1)\n",
    "\n",
    "    # Use the Viterbi algorithm to decode the sequence and find the most likely state sequence\n",
    "    state_sequence = model.predict(observations_reshaped)\n",
    "\n",
    "    # Print the resulting optimal state sequence determined by the model\n",
    "    print(\"Optimal state sequence (using hmmlearn):\", state_sequence)\n",
    "\n",
    "    # Comparison of results\n",
    "    assert np.array_equal(optimal_path, state_sequence), \"Mismatch between custom implementation and hmmlearn!\"\n",
    "    print(\"Both implementations yield the same optimal state sequence.\")\n",
    "\n",
    "except AttributeError:\n",
    "    print(\"CategoricalHMM is not available in this hmmlearn version. Consider downgrading hmmlearn or using another library like pomegranate.\")\n"
   ]
  },
  {
   "cell_type": "markdown",
   "metadata": {
    "id": "B0vm7yen2Phi"
   },
   "source": [
    "Apply plot_hidden_states function and explain the results:"
   ]
  },
  {
   "cell_type": "code",
   "execution_count": 9,
   "metadata": {
    "id": "KuWzfIQwzpcz"
   },
   "outputs": [
    {
     "name": "stderr",
     "output_type": "stream",
     "text": [
      "C:\\Users\\ASUS\\AppData\\Local\\Temp\\ipykernel_58920\\3232562646.py:6: MatplotlibDeprecationWarning: The get_cmap function was deprecated in Matplotlib 3.7 and will be removed two minor releases later. Use ``matplotlib.colormaps[name]`` or ``matplotlib.colormaps.get_cmap(obj)`` instead.\n",
      "  colors = plt.cm.get_cmap(\"viridis\", model.n_components)\n"
     ]
    },
    {
     "data": {
      "image/png": "[encoded data removed]",
      "text/plain": [
       "<Figure size 1000x800 with 4 Axes>"
      ]
     },
     "metadata": {},
     "output_type": "display_data"
    }
   ],
   "source": [
    "plot_hidden_states(model, observations_reshaped)"
   ]
  },
  {
   "cell_type": "markdown",
   "metadata": {},
   "source": [
    "**Explanation Of The Previous Result** \n",
    "\n",
    "The plot shows how the observations are assigned to hidden states over time, aligning with the most probable state sequence [0 0 0 0 0 0 0 0 0 0 0 0 0 0 0 2 1 1 1 1]. Hidden state 0 dominates the first 15 time steps, indicating it represents the most stable or frequent behavior in the data. At time step 15, there is a brief transition to hidden state 2, followed by a shift to hidden state 1 for the remaining time steps. Hidden state 3 does not appear in this sequence, showing it was not used for these observations. The plot visualizes these transitions and the persistence of each state clearly, matching the sequence provided by the model."
   ]
  },
  {
   "cell_type": "markdown",
   "metadata": {},
   "source": [
    "Now apply forward-backward algorithm:"
   ]
  },
  {
   "cell_type": "code",
   "execution_count": 10,
   "metadata": {
    "id": "zayIz-Fy0Jcr"
   },
   "outputs": [],
   "source": [
    "\n",
    "def forward_backward(obs, A, B, pi):\n",
    "    \"\"\"\n",
    "    Forward-Backward algorithm for HMMs.\n",
    "\n",
    "    Parameters:\n",
    "    obs : list\n",
    "        Sequence of observed states (encoded as integers).\n",
    "    A : 2D numpy array\n",
    "        State transition probability matrix.\n",
    "    B : 2D numpy array\n",
    "        Observation probability matrix.\n",
    "    pi : 1D numpy array\n",
    "        Initial state distribution.\n",
    "\n",
    "    Returns:\n",
    "    gamma : 2D numpy array\n",
    "        Posterior probabilities of states at each time step.\n",
    "    \"\"\"\n",
    "    N = A.shape[0]  # Number of states\n",
    "    T = len(obs)    # Number of observations\n",
    "\n",
    "    # initial probabilities\n",
    "    alpha = np.zeros((N, T))\n",
    "    alpha[:, 0] = pi * B[:, obs[0]]  \n",
    "    \n",
    "    # Step 1: Forward\n",
    "    for t in range(1, T):\n",
    "        for j in range(N):\n",
    "            alpha[j, t] = np.sum(alpha[:, t-1] * A[:, j]) * B[j, obs[t]]\n",
    "\n",
    "    # Step 2: Backward \n",
    "    beta = np.zeros((N, T))\n",
    "    beta[:, T-1] = 1 \n",
    "    for t in range(T-2, -1, -1):\n",
    "        for i in range(N):\n",
    "            beta[i, t] = np.sum(A[i, :] * B[:, obs[t+1]] * beta[:, t+1])\n",
    "\n",
    "    # Step 3: posterior probabilities (gamma)\n",
    "    gamma = np.zeros((N, T))\n",
    "    for t in range(T):\n",
    "        denominator = np.sum(alpha[:, t] * beta[:, t])  # Sum over all states at time t\n",
    "        for i in range(N):\n",
    "            gamma[i, t] = (alpha[i, t] * beta[i, t]) / denominator\n",
    "\n",
    "    return gamma, alpha, beta\n"
   ]
  },
  {
   "cell_type": "code",
   "execution_count": 11,
   "metadata": {},
   "outputs": [
    {
     "name": "stdout",
     "output_type": "stream",
     "text": [
      "Posterior probabilities (gamma): [[0.6146384  0.2848885  0.12835068 0.19955361 0.28907633 0.4095703\n",
      "  0.14934406 0.10727323 0.17449579 0.2549887  0.48195597 0.27425174\n",
      "  0.22183932 0.19962298 0.41576692 0.23393826 0.18015695 0.18966306\n",
      "  0.13228975 0.18590041]\n",
      " [0.11813748 0.2232025  0.29284317 0.48576923 0.3255039  0.13374932\n",
      "  0.20577366 0.27536529 0.37242092 0.44231516 0.15747749 0.28523268\n",
      "  0.44327498 0.27145712 0.14723399 0.31266142 0.52991664 0.52592256\n",
      "  0.343536   0.35434612]\n",
      " [0.1725203  0.43644251 0.37232498 0.11682914 0.31845804 0.27250425\n",
      "  0.42082444 0.40141187 0.3786388  0.09911533 0.20470527 0.37797665\n",
      "  0.13113364 0.29125424 0.25100225 0.3899755  0.11076301 0.1066552\n",
      "  0.34424573 0.39476224]\n",
      " [0.09470382 0.05546649 0.20648117 0.19784803 0.06696172 0.18417613\n",
      "  0.22405784 0.21594961 0.07444448 0.20358081 0.15586127 0.06253893\n",
      "  0.20375206 0.23766565 0.18599684 0.06342482 0.1791634  0.17775918\n",
      "  0.17992852 0.06499124]]\n"
     ]
    }
   ],
   "source": [
    "gamma, alpha, beta = forward_backward(observations, A, B, pi)\n",
    "print(\"Posterior probabilities (gamma):\", gamma)"
   ]
  }
 ],
 "metadata": {
  "colab": {
   "provenance": []
  },
  "kernelspec": {
   "display_name": "Python 3",
   "name": "python3"
  },
  "language_info": {
   "codemirror_mode": {
    "name": "ipython",
    "version": 3
   },
   "file_extension": ".py",
   "mimetype": "text/x-python",
   "name": "python",
   "nbconvert_exporter": "python",
   "pygments_lexer": "ipython3",
   "version": "3.12.2"
  }
 },
 "nbformat": 4,
 "nbformat_minor": 0
}
